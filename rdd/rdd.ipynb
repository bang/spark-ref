{
 "cells": [
  {
   "cell_type": "code",
   "execution_count": 8,
   "id": "88896fe3-993c-4e73-8f32-0dd22ef38ea5",
   "metadata": {
    "slideshow": {
     "slide_type": ""
    },
    "tags": []
   },
   "outputs": [],
   "source": [
    "import pyspark\n",
    "from pyspark import SparkContext\n",
    "from operator import add"
   ]
  },
  {
   "cell_type": "code",
   "execution_count": 9,
   "id": "e44ca0de-3148-40f2-9f3d-f0665a9fca94",
   "metadata": {},
   "outputs": [
    {
     "data": {
      "text/html": [
       "\n",
       "        <div>\n",
       "            <p><b>SparkContext</b></p>\n",
       "\n",
       "            <p><a href=\"http://5780f2db4564:4044\">Spark UI</a></p>\n",
       "\n",
       "            <dl>\n",
       "              <dt>Version</dt>\n",
       "                <dd><code>v3.2.4</code></dd>\n",
       "              <dt>Master</dt>\n",
       "                <dd><code>local[*]</code></dd>\n",
       "              <dt>AppName</dt>\n",
       "                <dd><code>pyspark-shell</code></dd>\n",
       "            </dl>\n",
       "        </div>\n",
       "        "
      ],
      "text/plain": [
       "<SparkContext master=local[*] appName=pyspark-shell>"
      ]
     },
     "execution_count": 9,
     "metadata": {},
     "output_type": "execute_result"
    }
   ],
   "source": [
    "sc = SparkContext.getOrCreate()\n",
    "sc"
   ]
  },
  {
   "cell_type": "code",
   "execution_count": 10,
   "id": "40f807e5-6ace-4c5c-aaf2-820426e73645",
   "metadata": {},
   "outputs": [
    {
     "name": "stdout",
     "output_type": "stream",
     "text": [
      "[1, 2, 3, 4, 5]\n"
     ]
    }
   ],
   "source": [
    "collect_rdd = sc.parallelize([1,2,3,4,5])\n",
    "print(collect_rdd.collect())"
   ]
  },
  {
   "cell_type": "code",
   "execution_count": 11,
   "id": "8bf68939-cba5-4e3e-a868-a8d0ae82b5a4",
   "metadata": {},
   "outputs": [
    {
     "name": "stdout",
     "output_type": "stream",
     "text": [
      "10\n"
     ]
    }
   ],
   "source": [
    "# Counting\n",
    "count_rdd = sc.parallelize([1,2,3,4,5,6,7,8,9,0])\n",
    "print(count_rdd.count())"
   ]
  },
  {
   "cell_type": "code",
   "execution_count": 12,
   "id": "9199423b-c9e4-4ade-90e3-506260cfceb7",
   "metadata": {},
   "outputs": [
    {
     "name": "stdout",
     "output_type": "stream",
     "text": [
      "45\n"
     ]
    }
   ],
   "source": [
    "# reduce - immediate operations\n",
    "data_rdd = sc.parallelize([1,2,3,4,5,6,7,8,9,0])\n",
    "result_rdd = data_rdd.reduce(lambda x,y: x + y)\n",
    "print(result_rdd)\n"
   ]
  },
  {
   "cell_type": "code",
   "execution_count": 13,
   "id": "6bb70ade-fe11-4cd2-a092-4529af35f61f",
   "metadata": {},
   "outputs": [
    {
     "name": "stdout",
     "output_type": "stream",
     "text": [
      "[('awesome', 1), ('Spark', 1), ('really', 2), ('is', 1)]\n"
     ]
    }
   ],
   "source": [
    "# word counter\n",
    "s = \"Spark is really really awesome!\"\n",
    "rdd = sc.parallelize([s])\n",
    "counts = rdd.flatMap(lambda line: line.split(\" \")) \\\n",
    "                            .map(lambda line: line.replace(\"!\",\"\")) \\\n",
    "                            .map(lambda word: (word, 1)) \\\n",
    "                            .reduceByKey(lambda x, y: x + y) \\\n",
    "                            .collect()\n",
    "print(str(counts))"
   ]
  },
  {
   "cell_type": "code",
   "execution_count": 7,
   "id": "c064273f-1229-4d81-a37e-8a9674c55eda",
   "metadata": {},
   "outputs": [
    {
     "data": {
      "text/plain": [
       "[('Spark', 1), ('really', 2), ('awesome!', 1), ('is', 1)]"
      ]
     },
     "execution_count": 7,
     "metadata": {},
     "output_type": "execute_result"
    }
   ],
   "source": [
    "s = \"Spark is really really awesome!\"\n",
    "sc.parallelize(s.split(\" \"))\\\n",
    ".map(lambda x:(x, 1))\\\n",
    ".reduceByKey(add).collect()"
   ]
  }
 ],
 "metadata": {
  "kernelspec": {
   "display_name": "Python 3 (ipykernel)",
   "language": "python",
   "name": "python3"
  },
  "language_info": {
   "codemirror_mode": {
    "name": "ipython",
    "version": 3
   },
   "file_extension": ".py",
   "mimetype": "text/x-python",
   "name": "python",
   "nbconvert_exporter": "python",
   "pygments_lexer": "ipython3",
   "version": "3.10.12"
  }
 },
 "nbformat": 4,
 "nbformat_minor": 5
}
