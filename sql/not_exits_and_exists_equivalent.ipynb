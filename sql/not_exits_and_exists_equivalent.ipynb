{
 "cells": [
  {
   "cell_type": "markdown",
   "metadata": {},
   "source": [
    "## Spark SQL: \"NOT EXISTS\" AND \"EXISTS\" equivalent operations on dataframes\n",
    "\n"
   ]
  },
  {
   "cell_type": "code",
   "execution_count": 28,
   "metadata": {},
   "outputs": [],
   "source": [
    "import findspark\n",
    "findspark.init()\n",
    "import pyspark.sql.functions as F\n",
    "from pyspark.sql.types import *\n",
    "from pyspark.sql import SparkSession"
   ]
  },
  {
   "cell_type": "code",
   "execution_count": 29,
   "metadata": {},
   "outputs": [],
   "source": [
    "spark = SparkSession.builder.appName('test_dataframes').enableHiveSupport().getOrCreate()"
   ]
  },
  {
   "cell_type": "markdown",
   "metadata": {},
   "source": [
    "## Generating data"
   ]
  },
  {
   "cell_type": "code",
   "execution_count": 30,
   "metadata": {},
   "outputs": [
    {
     "name": "stdout",
     "output_type": "stream",
     "text": [
      "+---+-----+\n",
      "| id| name|\n",
      "+---+-----+\n",
      "|  1|Andre|\n",
      "|  2| Rose|\n",
      "+---+-----+\n",
      "\n",
      "+---+------+\n",
      "| id|  name|\n",
      "+---+------+\n",
      "|  1| Andre|\n",
      "|  2|  Rose|\n",
      "|  3|Daniel|\n",
      "+---+------+\n",
      "\n",
      "+---+------+\n",
      "| id|  name|\n",
      "+---+------+\n",
      "|  1| Andre|\n",
      "|  2|  Rose|\n",
      "|  3|Daniel|\n",
      "|  3|Daniel|\n",
      "|  4| Anita|\n",
      "+---+------+\n",
      "\n"
     ]
    }
   ],
   "source": [
    "data1 = [(1,\"Andre\"),(2,\"Rose\")]\n",
    "data2 = [(1,\"Andre\"),(2,\"Rose\"),(3,\"Daniel\")]\n",
    "data3 = [(1,\"Andre\"),(2,\"Rose\"),(3,\"Daniel\"), (3,\"Daniel\"), (4,\"Anita\")]\n",
    "schema = StructType([\n",
    "    StructField(\"id\",StringType(),True),\n",
    "    StructField(\"name\",StringType(),True),\n",
    "])\n",
    "\n",
    "df1 = spark.createDataFrame(data1,schema)\n",
    "df2 = spark.createDataFrame(data2,schema)\n",
    "df3 = spark.createDataFrame(data3,schema)\n",
    "df1.show()\n",
    "df2.show()\n",
    "df3.show()"
   ]
  },
  {
   "cell_type": "markdown",
   "metadata": {},
   "source": [
    "## NOT EXISTS EQUIVALENT"
   ]
  },
  {
   "cell_type": "markdown",
   "metadata": {},
   "source": [
    "### Method 1 - subtract"
   ]
  },
  {
   "cell_type": "code",
   "execution_count": 31,
   "metadata": {},
   "outputs": [
    {
     "name": "stdout",
     "output_type": "stream",
     "text": [
      "+---+------+\n",
      "| id|  name|\n",
      "+---+------+\n",
      "|  3|Daniel|\n",
      "+---+------+\n",
      "\n"
     ]
    }
   ],
   "source": [
    "# All that exists in df2 but doesn't dexists in df1\n",
    "dfr = df2.subtract(df1)\n",
    "dfr.show()"
   ]
  },
  {
   "cell_type": "code",
   "execution_count": 32,
   "metadata": {},
   "outputs": [
    {
     "name": "stderr",
     "output_type": "stream",
     "text": [
      "\r",
      "[Stage 338:=================================================>   (187 + 8) / 200]\r",
      "\r",
      "                                                                                \r"
     ]
    },
    {
     "name": "stdout",
     "output_type": "stream",
     "text": [
      "+---+------+\n",
      "| id|  name|\n",
      "+---+------+\n",
      "|  3|Daniel|\n",
      "|  4| Anita|\n",
      "+---+------+\n",
      "\n"
     ]
    }
   ],
   "source": [
    "# All that exists in df3 but doesn't dexists in df1\n",
    "dfr2 = df3.subtract(df1)\n",
    "dfr2.show()"
   ]
  },
  {
   "cell_type": "markdown",
   "metadata": {},
   "source": [
    "### Method 2 - left_anti. This is the 'classical' way to have something equivalent to 'NOT EXISTS'"
   ]
  },
  {
   "cell_type": "code",
   "execution_count": 33,
   "metadata": {},
   "outputs": [
    {
     "name": "stdout",
     "output_type": "stream",
     "text": [
      "+---+------+\n",
      "| id|  name|\n",
      "+---+------+\n",
      "|  3|Daniel|\n",
      "+---+------+\n",
      "\n"
     ]
    }
   ],
   "source": [
    "# All that exists in df2 but doesn't dexists in df1\n",
    "dfr = df2.join(df1,'id','left_anti')\n",
    "dfr.show()"
   ]
  },
  {
   "cell_type": "code",
   "execution_count": 34,
   "metadata": {},
   "outputs": [
    {
     "name": "stdout",
     "output_type": "stream",
     "text": [
      "+---+------+\n",
      "| id|  name|\n",
      "+---+------+\n",
      "|  3|Daniel|\n",
      "|  4| Anita|\n",
      "+---+------+\n",
      "\n"
     ]
    }
   ],
   "source": [
    "# All that exists in df3 but doesn't dexists in df1\n",
    "dfr2 = df3.join(df1,'id','left_anti').dropDuplicates()\n",
    "dfr2.show()"
   ]
  },
  {
   "cell_type": "markdown",
   "metadata": {},
   "source": [
    "### Method 3 - exceptAll - same thing as 'subtract', apearently!"
   ]
  },
  {
   "cell_type": "code",
   "execution_count": 35,
   "metadata": {},
   "outputs": [
    {
     "name": "stdout",
     "output_type": "stream",
     "text": [
      "+---+------+\n",
      "| id|  name|\n",
      "+---+------+\n",
      "|  3|Daniel|\n",
      "+---+------+\n",
      "\n"
     ]
    }
   ],
   "source": [
    "# All that exists in df2 but doesn't dexists in df1\n",
    "dfr = df2.exceptAll(df1)\n",
    "dfr.show()"
   ]
  },
  {
   "cell_type": "code",
   "execution_count": 36,
   "metadata": {},
   "outputs": [
    {
     "name": "stdout",
     "output_type": "stream",
     "text": [
      "+---+------+\n",
      "| id|  name|\n",
      "+---+------+\n",
      "|  3|Daniel|\n",
      "|  4| Anita|\n",
      "+---+------+\n",
      "\n"
     ]
    }
   ],
   "source": [
    "# All that exists in df3 but doesn't dexists in df1\n",
    "dfr2 = df3.exceptAll(df1).dropDuplicates()\n",
    "dfr2.show()"
   ]
  },
  {
   "cell_type": "markdown",
   "metadata": {},
   "source": [
    "## EXISTS EQUIVALENT"
   ]
  },
  {
   "cell_type": "markdown",
   "metadata": {},
   "source": [
    "### Method 1 - left_semi"
   ]
  },
  {
   "cell_type": "code",
   "execution_count": 15,
   "metadata": {},
   "outputs": [
    {
     "name": "stdout",
     "output_type": "stream",
     "text": [
      "+---+-----+\n",
      "| id| name|\n",
      "+---+-----+\n",
      "|  1|Andre|\n",
      "|  2| Rose|\n",
      "+---+-----+\n",
      "\n"
     ]
    }
   ],
   "source": [
    "# Only that exists in df2 and df1\n",
    "dfr = df2.join(df1,'id','left_semi')\n",
    "dfr.show()"
   ]
  },
  {
   "cell_type": "code",
   "execution_count": 16,
   "metadata": {},
   "outputs": [
    {
     "name": "stdout",
     "output_type": "stream",
     "text": [
      "+---+-----+\n",
      "| id| name|\n",
      "+---+-----+\n",
      "|  1|Andre|\n",
      "|  2| Rose|\n",
      "+---+-----+\n",
      "\n"
     ]
    }
   ],
   "source": [
    "# Only that exists in df3 and df1\n",
    "dfr = df3.join(df1,'id','left_semi')\n",
    "dfr.show()"
   ]
  },
  {
   "cell_type": "code",
   "execution_count": null,
   "metadata": {},
   "outputs": [],
   "source": []
  }
 ],
 "metadata": {
  "kernelspec": {
   "display_name": "Python 3 (ipykernel)",
   "language": "python",
   "name": "python3"
  },
  "language_info": {
   "codemirror_mode": {
    "name": "ipython",
    "version": 3
   },
   "file_extension": ".py",
   "mimetype": "text/x-python",
   "name": "python",
   "nbconvert_exporter": "python",
   "pygments_lexer": "ipython3",
   "version": "3.8.5"
  }
 },
 "nbformat": 4,
 "nbformat_minor": 4
}
