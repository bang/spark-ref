{
 "cells": [
  {
   "cell_type": "code",
   "execution_count": 10,
   "id": "b4be2271-1e6e-40f2-a2a2-e3dcbf68dbb8",
   "metadata": {},
   "outputs": [],
   "source": [
    "import pyspark\n",
    "import pyspark.sql.functions as F\n",
    "from pyspark.sql import SparkSession\n",
    "from pyspark.sql.types import StructType, StructField, StringType, IntegerType, MapType, ArrayType\n",
    "from operator import add"
   ]
  },
  {
   "cell_type": "code",
   "execution_count": 11,
   "id": "3b83f99a-7763-487e-b4e3-645d9fe930a6",
   "metadata": {},
   "outputs": [],
   "source": [
    "spark = SparkSession.builder.master('local').appName('word_counter').getOrCreate()"
   ]
  },
  {
   "cell_type": "markdown",
   "id": "b23bf8a9-e8e4-49cd-89fc-3ffd80d35fbd",
   "metadata": {},
   "source": [
    "### Dataframe way\n",
    "\n",
    " 1. Create the dataframe with one column and call it 'word'\n",
    " 2. Use F.split and get one column with all words separated in a list\n",
    " 3. Use F.explode to transform each item in the list to a row\n",
    " 4. Group by 'word' and aggregate using 'count' function\n",
    "\n",
    "    "
   ]
  },
  {
   "cell_type": "code",
   "execution_count": 12,
   "id": "2d1bde9c-05eb-4f94-a0f9-ce7cc421b085",
   "metadata": {},
   "outputs": [],
   "source": [
    "# Input\n",
    "s = [\"Spark is totally totally awesome!\"]"
   ]
  },
  {
   "cell_type": "code",
   "execution_count": 13,
   "id": "de353bf4-1301-458e-a6be-212d4ae73d9d",
   "metadata": {},
   "outputs": [
    {
     "name": "stdout",
     "output_type": "stream",
     "text": [
      "+-------+-----------+\n",
      "|   word|count(word)|\n",
      "+-------+-----------+\n",
      "|totally|          2|\n",
      "|     is|          1|\n",
      "|  Spark|          1|\n",
      "|awesome|          1|\n",
      "+-------+-----------+\n",
      "\n"
     ]
    }
   ],
   "source": [
    "words_df = spark.createDataFrame([s], ['word'])\\\n",
    "            .withColumn('word', F.explode(F.split(F.col('word'), ' ')))\\\n",
    "            .groupBy('word').agg(F.count('word'))\\\n",
    "            .withColumn('word', F.regexp_replace(F.col('word'), r\"^(.*)[\\!@#\\$%&*\\(\\)_\\-\\+\\=]+(.*)$\", \"$1$2\"))\\\n",
    "            .show()"
   ]
  },
  {
   "cell_type": "markdown",
   "id": "155fdb25-4711-4095-ac7f-b9c84099bcb6",
   "metadata": {},
   "source": [
    "### Dataframe + SQL\n",
    "\n",
    "1. Create a dataframe and a view from it\n",
    "2. Split and explode exactly as before\n",
    "3. Create a temporary view\n",
    "4. Count and group using SQL\n"
   ]
  },
  {
   "cell_type": "code",
   "execution_count": 14,
   "id": "7ec2679c-1afd-47ac-99a8-70aa61baf43a",
   "metadata": {},
   "outputs": [],
   "source": [
    "# Create a data frame and a view\n",
    "s = [\"Spark is really really awesome!\"]\n",
    "lines_df = spark.createDataFrame([s], ['word'])\\\n",
    "            .withColumn('word', F.explode(F.split(F.col('word'), ' ')))\n",
    "lines_df.createOrReplaceTempView('lines')"
   ]
  },
  {
   "cell_type": "code",
   "execution_count": 15,
   "id": "9a292827-710b-4231-9eda-3434cac14ec5",
   "metadata": {},
   "outputs": [
    {
     "name": "stdout",
     "output_type": "stream",
     "text": [
      "+--------+-----------+\n",
      "|    word|count(word)|\n",
      "+--------+-----------+\n",
      "|      is|          1|\n",
      "|  really|          2|\n",
      "|   Spark|          1|\n",
      "|awesome!|          1|\n",
      "+--------+-----------+\n",
      "\n"
     ]
    }
   ],
   "source": [
    "# Select data from the view simply using Spark SQL\n",
    "spark.sql(\"\"\"select word, count(word) from lines group by word\"\"\").show()"
   ]
  },
  {
   "cell_type": "markdown",
   "id": "cc5800a1-42bb-4bf9-9696-2dd830315319",
   "metadata": {},
   "source": [
    "### RDD way"
   ]
  },
  {
   "cell_type": "code",
   "execution_count": 16,
   "id": "bc918308-4d4a-436c-90ed-0483f0cc5b56",
   "metadata": {},
   "outputs": [
    {
     "data": {
      "text/plain": [
       "[('Spark', 1), ('is', 1), ('really', 2), ('awesome!', 1)]"
      ]
     },
     "execution_count": 16,
     "metadata": {},
     "output_type": "execute_result"
    }
   ],
   "source": [
    "# If you like map/reduce crap, go ahead!\n",
    "s = \"Spark is really really awesome!\"\n",
    "spark.sparkContext\\\n",
    " .parallelize(s.split()).map(lambda x:(x, 1))\\\n",
    " .reduceByKey(add).collect()"
   ]
  },
  {
   "cell_type": "code",
   "execution_count": null,
   "id": "e82e9b12-7fbd-42d1-9492-be5cdef9dfdf",
   "metadata": {},
   "outputs": [],
   "source": []
  }
 ],
 "metadata": {
  "kernelspec": {
   "display_name": "Python 3 (ipykernel)",
   "language": "python",
   "name": "python3"
  },
  "language_info": {
   "codemirror_mode": {
    "name": "ipython",
    "version": 3
   },
   "file_extension": ".py",
   "mimetype": "text/x-python",
   "name": "python",
   "nbconvert_exporter": "python",
   "pygments_lexer": "ipython3",
   "version": "3.10.12"
  }
 },
 "nbformat": 4,
 "nbformat_minor": 5
}
