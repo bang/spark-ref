{
 "cells": [
  {
   "cell_type": "code",
   "execution_count": 4,
   "metadata": {},
   "outputs": [],
   "source": [
    "import pyspark\n",
    "import pyspark.sql.functions as F\n",
    "from pyspark.sql import SparkSession\n",
    "from pyspark.sql.types import StructType, StructField, StringType"
   ]
  },
  {
   "cell_type": "code",
   "execution_count": 5,
   "metadata": {},
   "outputs": [],
   "source": [
    "spark = SparkSession.builder.appName('strings_lists').enableHiveSupport().getOrCreate()"
   ]
  },
  {
   "cell_type": "code",
   "execution_count": 15,
   "metadata": {},
   "outputs": [
    {
     "name": "stdout",
     "output_type": "stream",
     "text": [
      "+-------+\n",
      "| target|\n",
      "+-------+\n",
      "|XADOWPQ|\n",
      "+-------+\n",
      "\n"
     ]
    }
   ],
   "source": [
    "# Creating a basic schema\n",
    "schema = StructType([\n",
    "    StructField('target', StringType(), True)\n",
    "])\n",
    "data = [['XADOWPQ']]\n",
    "df = spark.createDataFrame(data, schema)\n",
    "dfo = df\n",
    "df.show()"
   ]
  },
  {
   "cell_type": "code",
   "execution_count": 14,
   "metadata": {},
   "outputs": [
    {
     "name": "stdout",
     "output_type": "stream",
     "text": [
      "+--------------------+\n",
      "|              target|\n",
      "+--------------------+\n",
      "|[X, A, D, O, W, P...|\n",
      "+--------------------+\n",
      "\n",
      "+--------------------+\n",
      "|              target|\n",
      "+--------------------+\n",
      "|[, A, D, O, P, Q,...|\n",
      "+--------------------+\n",
      "\n",
      "+-------+\n",
      "| target|\n",
      "+-------+\n",
      "|ADOPQWX|\n",
      "+-------+\n",
      "\n"
     ]
    }
   ],
   "source": [
    "# First, Transform target to array. Let's using another field\n",
    "df = df.withColumn('target', F.split('target',''))\n",
    "df.show()\n",
    "\n",
    "# Second, sort the array\n",
    "df = df.withColumn('target', F.array_sort('target'))\n",
    "df.show()\n",
    "\n",
    "# Third, convert to string again\n",
    "df = df.withColumn('target', F.concat_ws('', 'target'))\n",
    "df.show()"
   ]
  },
  {
   "cell_type": "code",
   "execution_count": null,
   "metadata": {},
   "outputs": [],
   "source": []
  }
 ],
 "metadata": {
  "kernelspec": {
   "display_name": "Python 3",
   "language": "python",
   "name": "python3"
  },
  "language_info": {
   "codemirror_mode": {
    "name": "ipython",
    "version": 3
   },
   "file_extension": ".py",
   "mimetype": "text/x-python",
   "name": "python",
   "nbconvert_exporter": "python",
   "pygments_lexer": "ipython3",
   "version": "3.8.5"
  }
 },
 "nbformat": 4,
 "nbformat_minor": 4
}
