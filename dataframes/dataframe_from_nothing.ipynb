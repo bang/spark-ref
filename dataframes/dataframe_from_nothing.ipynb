{
 "cells": [
  {
   "cell_type": "code",
   "execution_count": 1,
   "metadata": {},
   "outputs": [],
   "source": [
    "import pyspark\n",
    "from pyspark.sql import SparkSession\n",
    "from pyspark.sql.types import StructType, StructField, StringType"
   ]
  },
  {
   "cell_type": "code",
   "execution_count": 2,
   "metadata": {},
   "outputs": [],
   "source": [
    "spark = SparkSession.builder.appName('basic').getOrCreate()"
   ]
  },
  {
   "cell_type": "markdown",
   "metadata": {},
   "source": [
    "## Creating a empty dataframe"
   ]
  },
  {
   "cell_type": "markdown",
   "metadata": {},
   "source": [
    "### Parallelize way"
   ]
  },
  {
   "cell_type": "code",
   "execution_count": 3,
   "metadata": {},
   "outputs": [
    {
     "name": "stdout",
     "output_type": "stream",
     "text": [
      "+--------+-------+-------+\n",
      "|      _1|     _2|     _3|\n",
      "+--------+-------+-------+\n",
      "|    This|is only|a test!|\n",
      "|And this|     is|    too|\n",
      "+--------+-------+-------+\n",
      "\n"
     ]
    }
   ],
   "source": [
    "# Define your data by a set of data. Each data is a Row!\n",
    "data = [(\"This\",\"is only\", \"a test!\"),(\"And this\",\"is\",\"too\")]\n",
    "\n",
    "# Paralellize data\n",
    "spark.sparkContext.parallelize(data).toDF().show()\n"
   ]
  },
  {
   "cell_type": "code",
   "execution_count": 4,
   "metadata": {},
   "outputs": [
    {
     "name": "stdout",
     "output_type": "stream",
     "text": [
      "+--------+-------+-------+\n",
      "|    colA|   colB|   colC|\n",
      "+--------+-------+-------+\n",
      "|    This|is only|a test!|\n",
      "|And this|     is|    too|\n",
      "+--------+-------+-------+\n",
      "\n"
     ]
    }
   ],
   "source": [
    "# Defining column names\n",
    "columns = [\"colA\", \"colB\", \"colC\"]\n",
    "spark.sparkContext.parallelize(data).toDF(columns).show()"
   ]
  },
  {
   "cell_type": "markdown",
   "metadata": {},
   "source": [
    "### createDataFrame way"
   ]
  },
  {
   "cell_type": "code",
   "execution_count": 5,
   "metadata": {},
   "outputs": [
    {
     "name": "stdout",
     "output_type": "stream",
     "text": [
      "++\n",
      "||\n",
      "++\n",
      "++\n",
      "\n"
     ]
    }
   ],
   "source": [
    "# First it's required unleast a empty schema\n",
    "schema = StructType([])\n",
    "\n",
    "# Now, an empty and useless dataframe\n",
    "spark.createDataFrame(spark.sparkContext.emptyRDD(),schema).show()"
   ]
  },
  {
   "cell_type": "code",
   "execution_count": 11,
   "metadata": {},
   "outputs": [
    {
     "name": "stdout",
     "output_type": "stream",
     "text": [
      "+--------+-------+-------+\n",
      "|    colA|   colB|   colC|\n",
      "+--------+-------+-------+\n",
      "|    This|is only|a test!|\n",
      "|And this|     is|    too|\n",
      "+--------+-------+-------+\n",
      "\n"
     ]
    }
   ],
   "source": [
    "# Schema for previous data\n",
    "schema = StructType([\n",
    "            StructField(\"colA\",StringType(),False),\n",
    "            StructField(\"colB\",StringType(),False),\n",
    "            StructField(\"colC\",StringType(),False)\n",
    "        ])\n",
    "# Creating DataFrame\n",
    "spark.createDataFrame(data,schema).show()\n"
   ]
  },
  {
   "cell_type": "code",
   "execution_count": 12,
   "metadata": {},
   "outputs": [
    {
     "name": "stdout",
     "output_type": "stream",
     "text": [
      "+--------+-------+------+\n",
      "|    colA|   colB|  colC|\n",
      "+--------+-------+------+\n",
      "|    This|is only|a test|\n",
      "|And this|     is|   too|\n",
      "+--------+-------+------+\n",
      "\n"
     ]
    }
   ],
   "source": [
    "# Minimalist\n",
    "df = spark.createDataFrame([[\"This\",\"is only\",\"a test\"],[\"And this\",\"is\",\"too\"]],schema)\n",
    "df.show()"
   ]
  },
  {
   "cell_type": "markdown",
   "metadata": {},
   "source": [
    "## Dataframes from CSV"
   ]
  },
  {
   "cell_type": "code",
   "execution_count": 13,
   "metadata": {},
   "outputs": [
    {
     "name": "stdout",
     "output_type": "stream",
     "text": [
      "+--------+-------+------+\n",
      "|    colA|   colB|  colC|\n",
      "+--------+-------+------+\n",
      "|    This|is only|a test|\n",
      "|And this|     is|   too|\n",
      "+--------+-------+------+\n",
      "\n"
     ]
    }
   ],
   "source": [
    "# Let's create a file first from the dataframe stored on 'df' var!\n",
    "file='/users/hduser/spark-ref/dataframes/examples/example-001.csv'\n",
    "df.write.csv(file, sep=',', header=True)\n",
    "\n",
    "\n",
    "# Reading from HDFS\n",
    "spark.read.csv(file, \n",
    "               sep=',',\n",
    "               encoding='utf-8',\n",
    "               header=True).show()"
   ]
  },
  {
   "cell_type": "code",
   "execution_count": null,
   "metadata": {},
   "outputs": [],
   "source": []
  }
 ],
 "metadata": {
  "kernelspec": {
   "display_name": "Python 3",
   "language": "python",
   "name": "python3"
  },
  "language_info": {
   "codemirror_mode": {
    "name": "ipython",
    "version": 3
   },
   "file_extension": ".py",
   "mimetype": "text/x-python",
   "name": "python",
   "nbconvert_exporter": "python",
   "pygments_lexer": "ipython3",
   "version": "3.8.5"
  }
 },
 "nbformat": 4,
 "nbformat_minor": 2
}
