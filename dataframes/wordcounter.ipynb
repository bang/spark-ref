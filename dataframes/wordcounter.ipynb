{
 "cells": [
  {
   "cell_type": "code",
   "execution_count": 16,
   "id": "753933f8",
   "metadata": {},
   "outputs": [],
   "source": [
    "import findspark\n",
    "findspark.init()\n",
    "import pyspark.sql.functions as F\n",
    "from pyspark.sql.types import *\n",
    "from pyspark.sql import SparkSession\n",
    "from operator import add\n",
    "from pyspark import StorageLevel\n"
   ]
  },
  {
   "cell_type": "code",
   "execution_count": 17,
   "id": "b9a818b0",
   "metadata": {},
   "outputs": [],
   "source": [
    "spark = SparkSession.builder.appName('word_count').getOrCreate()"
   ]
  },
  {
   "cell_type": "markdown",
   "id": "1736b522",
   "metadata": {},
   "source": [
    "# 1. Dataframe way\n",
    "\n",
    "\n",
    "1. Create the dataframe with one column and call it 'word'\n",
    "2. Use F.split and get one column with all words separated in a list\n",
    "3. Use F.explode to transform each item in the list to a row\n",
    "4. Group by 'word' and aggregate using 'count' function\n"
   ]
  },
  {
   "cell_type": "code",
   "execution_count": 42,
   "id": "7a0e577e",
   "metadata": {},
   "outputs": [],
   "source": [
    "# Input\n",
    "s = [\"Spark is totally totally awesome!\"]"
   ]
  },
  {
   "cell_type": "code",
   "execution_count": 43,
   "id": "ab9635d5",
   "metadata": {},
   "outputs": [
    {
     "name": "stdout",
     "output_type": "stream",
     "text": [
      "+-------+-----------+\n",
      "|   word|count(word)|\n",
      "+-------+-----------+\n",
      "|totally|          2|\n",
      "|     is|          1|\n",
      "|  Spark|          1|\n",
      "|awesome|          1|\n",
      "+-------+-----------+\n",
      "\n"
     ]
    }
   ],
   "source": [
    "\n",
    "words_df = spark.createDataFrame([s], ['word'])\\\n",
    "            .withColumn('word', F.explode(F.split(F.col('word'), ' ')))\\\n",
    "            .groupBy('word').agg(F.count('word'))\\\n",
    "            .withColumn('word', F.regexp_replace(F.col('word'), r\"^(.*)[\\!@#\\$%&*\\(\\)_\\-\\+\\=]+(.*)$\", \"$1$2\"))\\\n",
    "            .persist(StorageLevel.MEMORY_AND_DISK)\\\n",
    "            .show()"
   ]
  },
  {
   "cell_type": "markdown",
   "id": "1106855c",
   "metadata": {},
   "source": [
    "# Dataframe + SQL\n",
    "1. Create a dataframe \n",
    "2. Split and explode exactly as before\n",
    "3. Create a temporary view\n",
    "4. count and group using SQL\n",
    "\n"
   ]
  },
  {
   "cell_type": "code",
   "execution_count": 34,
   "id": "020456c1",
   "metadata": {},
   "outputs": [],
   "source": [
    "# Create a view first\n",
    "s = [\"Spark is really really awesome!\"]\n",
    "lines_df = spark.createDataFrame([s], ['word'])\\\n",
    "            .withColumn('word', F.explode(F.split(F.col('word'), ' ')))\n",
    "lines_df.createOrReplaceTempView('lines')\n"
   ]
  },
  {
   "cell_type": "code",
   "execution_count": 40,
   "id": "552bb424",
   "metadata": {},
   "outputs": [
    {
     "name": "stdout",
     "output_type": "stream",
     "text": [
      "+--------+-----------+\n",
      "|    word|count(word)|\n",
      "+--------+-----------+\n",
      "|      is|          1|\n",
      "|  really|          2|\n",
      "|   Spark|          1|\n",
      "|awesome!|          1|\n",
      "+--------+-----------+\n",
      "\n"
     ]
    }
   ],
   "source": [
    "# Select data from the view simply using Spark SQL\n",
    "spark.sql(\"\"\"select word, count(word) from lines group by word\"\"\").show()"
   ]
  },
  {
   "cell_type": "markdown",
   "id": "5300330b",
   "metadata": {},
   "source": [
    "# RDD way(not recommended in my opinion)\n",
    "\n",
    "\n"
   ]
  },
  {
   "cell_type": "code",
   "execution_count": 39,
   "id": "1e8b9676",
   "metadata": {},
   "outputs": [
    {
     "data": {
      "text/plain": [
       "[('really', 2), ('Spark', 1), ('awesome!', 1), ('is', 1)]"
      ]
     },
     "execution_count": 39,
     "metadata": {},
     "output_type": "execute_result"
    }
   ],
   "source": [
    "# If you like map/reduce crap, go ahead!\n",
    "s = \"Spark is really really awesome!\"\n",
    "spark.sparkContext\\\n",
    " .parallelize(s.split()).map(lambda x:(x, 1))\\\n",
    " .reduceByKey(add).collect()"
   ]
  },
  {
   "cell_type": "code",
   "execution_count": null,
   "id": "d79cafb7",
   "metadata": {},
   "outputs": [],
   "source": []
  }
 ],
 "metadata": {
  "kernelspec": {
   "display_name": "Python 3 (ipykernel)",
   "language": "python",
   "name": "python3"
  },
  "language_info": {
   "codemirror_mode": {
    "name": "ipython",
    "version": 3
   },
   "file_extension": ".py",
   "mimetype": "text/x-python",
   "name": "python",
   "nbconvert_exporter": "python",
   "pygments_lexer": "ipython3",
   "version": "3.8.5"
  }
 },
 "nbformat": 4,
 "nbformat_minor": 5
}
