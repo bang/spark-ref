{
 "cells": [
  {
   "cell_type": "code",
   "execution_count": 46,
   "metadata": {},
   "outputs": [],
   "source": [
    "import pyspark\n",
    "from pyspark.sql import SparkSession\n",
    "from pyspark.sql.types import StructType, StructField, StringType"
   ]
  },
  {
   "cell_type": "code",
   "execution_count": 47,
   "metadata": {},
   "outputs": [],
   "source": [
    "spark = SparkSession.builder.appName('basic').getOrCreate()"
   ]
  },
  {
   "cell_type": "markdown",
   "metadata": {},
   "source": [
    "## Creating a empty dataframe"
   ]
  },
  {
   "cell_type": "markdown",
   "metadata": {},
   "source": [
    "### Parallelize way"
   ]
  },
  {
   "cell_type": "code",
   "execution_count": 48,
   "metadata": {},
   "outputs": [
    {
     "name": "stdout",
     "output_type": "stream",
     "text": [
      "+--------+-------+-------+\n",
      "|      _1|     _2|     _3|\n",
      "+--------+-------+-------+\n",
      "|    This|is only|a test!|\n",
      "|And this|     is|    too|\n",
      "+--------+-------+-------+\n",
      "\n"
     ]
    }
   ],
   "source": [
    "# Define your data by a set of data. Each data is a Row!\n",
    "data = [(\"This\",\"is only\", \"a test!\"),(\"And this\",\"is\",\"too\")]\n",
    "\n",
    "# Paralellize data\n",
    "spark.sparkContext.parallelize(data).toDF().show()\n"
   ]
  },
  {
   "cell_type": "code",
   "execution_count": 49,
   "metadata": {},
   "outputs": [
    {
     "name": "stdout",
     "output_type": "stream",
     "text": [
      "+--------+-------+-------+\n",
      "|    colA|   colB|   colC|\n",
      "+--------+-------+-------+\n",
      "|    This|is only|a test!|\n",
      "|And this|     is|    too|\n",
      "+--------+-------+-------+\n",
      "\n"
     ]
    }
   ],
   "source": [
    "# Defining column names\n",
    "columns = [\"colA\", \"colB\", \"colC\"]\n",
    "spark.sparkContext.parallelize(data).toDF(columns).show()"
   ]
  },
  {
   "cell_type": "markdown",
   "metadata": {},
   "source": [
    "### createDataFrame way"
   ]
  },
  {
   "cell_type": "code",
   "execution_count": 50,
   "metadata": {},
   "outputs": [
    {
     "name": "stdout",
     "output_type": "stream",
     "text": [
      "++\n",
      "||\n",
      "++\n",
      "++\n",
      "\n"
     ]
    }
   ],
   "source": [
    "# First it's required unleast a empty schema\n",
    "schema = StructType([])\n",
    "\n",
    "# Now, an empty and useless dataframe\n",
    "spark.createDataFrame(spark.sparkContext.emptyRDD(),schema).show()"
   ]
  },
  {
   "cell_type": "code",
   "execution_count": 51,
   "metadata": {},
   "outputs": [
    {
     "name": "stdout",
     "output_type": "stream",
     "text": [
      "+--------+-------+-------+\n",
      "|    colA|   colB|   colC|\n",
      "+--------+-------+-------+\n",
      "|    This|is only|a test!|\n",
      "|And this|     is|    too|\n",
      "+--------+-------+-------+\n",
      "\n"
     ]
    }
   ],
   "source": [
    "# Schema for previous data\n",
    "schema = StructType([\n",
    "            StructField(\"colA\",StringType(),False),\n",
    "            StructField(\"colB\",StringType(),False),\n",
    "            StructField(\"colC\",StringType(),False)\n",
    "        ])\n",
    "# Creating DataFrame\n",
    "spark.createDataFrame(data,schema).show()"
   ]
  },
  {
   "cell_type": "code",
   "execution_count": 52,
   "metadata": {},
   "outputs": [
    {
     "name": "stdout",
     "output_type": "stream",
     "text": [
      "+--------+-------+------+\n",
      "|    colA|   colB|  colC|\n",
      "+--------+-------+------+\n",
      "|    This|is only|a test|\n",
      "|And this|     is|   too|\n",
      "+--------+-------+------+\n",
      "\n"
     ]
    }
   ],
   "source": [
    "# Minimalist\n",
    "spark.createDataFrame([[\"This\",\"is only\",\"a test\"],[\"And this\",\"is\",\"too\"]],schema).show()"
   ]
  }
 ],
 "metadata": {
  "kernelspec": {
   "display_name": "Python 3",
   "language": "python",
   "name": "python3"
  },
  "language_info": {
   "codemirror_mode": {
    "name": "ipython",
    "version": 3
   },
   "file_extension": ".py",
   "mimetype": "text/x-python",
   "name": "python",
   "nbconvert_exporter": "python",
   "pygments_lexer": "ipython3",
   "version": "3.6.9"
  }
 },
 "nbformat": 4,
 "nbformat_minor": 2
}
